{
 "cells": [
  {
   "cell_type": "code",
   "execution_count": 1,
   "metadata": {
    "collapsed": true
   },
   "outputs": [],
   "source": [
    "import tensorflow as tf\n",
    "import numpy as np"
   ]
  },
  {
   "cell_type": "code",
   "execution_count": 4,
   "metadata": {},
   "outputs": [
    {
     "name": "stdout",
     "output_type": "stream",
     "text": [
      "[1 2 3 4 5]\n"
     ]
    }
   ],
   "source": [
    "sess = tf.InteractiveSession() \n",
    "\n",
    "tensor = np.array([1,2,3,4,5])\n",
    "\n",
    "tensor = tf.constant(tensor) \n",
    "\n",
    "print(tensor.eval())\n",
    "\n",
    "sess.close() \n"
   ]
  },
  {
   "cell_type": "code",
   "execution_count": 6,
   "metadata": {},
   "outputs": [
    {
     "name": "stdout",
     "output_type": "stream",
     "text": [
      "(3, 3, 3)\n",
      "[[[ 0  1  2]\n",
      "  [ 3  4  5]\n",
      "  [ 6  7  8]]\n",
      "\n",
      " [[ 9 10 11]\n",
      "  [12 13 14]\n",
      "  [15 16 17]]\n",
      "\n",
      " [[18 19 20]\n",
      "  [21 22 23]\n",
      "  [24 25 26]]]\n"
     ]
    }
   ],
   "source": [
    "tensor_3d = np.array([[[ 0,  1,  2],\n",
    "                       [ 3,  4,  5],\n",
    "                       [ 6,  7,  8]],\n",
    "                      [[ 9, 10, 11],\n",
    "                       [12, 13, 14],\n",
    "                       [15, 16, 17]],\n",
    "                         [[18, 19, 20],[21, 22, 23],[24, 25, 26]]])\n",
    "\n",
    "tensor_3d = tf.convert_to_tensor(tensor_3d) \n",
    "\n",
    "with tf.Session() as sess:\n",
    "    print (tensor_3d.get_shape())\n",
    "    print (sess.run(tensor_3d))\n",
    "            "
   ]
  },
  {
   "cell_type": "code",
   "execution_count": null,
   "metadata": {
    "collapsed": true
   },
   "outputs": [],
   "source": []
  }
 ],
 "metadata": {
  "kernelspec": {
   "display_name": "Python 3",
   "language": "python",
   "name": "python3"
  },
  "language_info": {
   "codemirror_mode": {
    "name": "ipython",
    "version": 3
   },
   "file_extension": ".py",
   "mimetype": "text/x-python",
   "name": "python",
   "nbconvert_exporter": "python",
   "pygments_lexer": "ipython3",
   "version": "3.6.2"
  }
 },
 "nbformat": 4,
 "nbformat_minor": 2
}
